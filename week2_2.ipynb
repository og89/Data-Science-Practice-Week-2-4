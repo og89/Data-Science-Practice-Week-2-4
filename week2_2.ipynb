{
 "cells": [
  {
   "cell_type": "markdown",
   "id": "c290faaa",
   "metadata": {},
   "source": [
    "## NumPy\n",
    "\n",
    "A lot of data analysis is carried out using tables of data. These are called 'arrays' in Python. We will use NumPy for this, which is an important Python package. If you'd like to learn more about it, this is a good place to start: https://numpy.org/doc/stable/user/whatisnumpy.html"
   ]
  },
  {
   "cell_type": "markdown",
   "id": "20b2e834",
   "metadata": {},
   "source": [
    "The code below creates two simple arrays."
   ]
  },
  {
   "cell_type": "code",
   "execution_count": 110,
   "id": "46e915fb",
   "metadata": {
    "tags": []
   },
   "outputs": [
    {
     "data": {
      "text/plain": [
       "numpy.float64"
      ]
     },
     "execution_count": 110,
     "metadata": {},
     "output_type": "execute_result"
    }
   ],
   "source": [
    "import numpy as np\n",
    "a = np.array([2, 3, 4])\n",
    "b = np.array([1.2, 3.5, 5.1])"
   ]
  },
  {
   "cell_type": "markdown",
   "id": "6704a3bd",
   "metadata": {},
   "source": [
    "We can look at the types of data stored in the arrays, which should be familiar from the first Jupyter notebook."
   ]
  },
  {
   "cell_type": "code",
   "execution_count": 4,
   "id": "80148fe0",
   "metadata": {},
   "outputs": [
    {
     "data": {
      "text/plain": [
       "dtype('int64')"
      ]
     },
     "execution_count": 4,
     "metadata": {},
     "output_type": "execute_result"
    }
   ],
   "source": [
    "a.dtype"
   ]
  },
  {
   "cell_type": "code",
   "execution_count": 5,
   "id": "d0701130",
   "metadata": {},
   "outputs": [
    {
     "data": {
      "text/plain": [
       "dtype('float64')"
      ]
     },
     "execution_count": 5,
     "metadata": {},
     "output_type": "execute_result"
    }
   ],
   "source": [
    "b.dtype"
   ]
  },
  {
   "cell_type": "markdown",
   "id": "5957b9f7",
   "metadata": {},
   "source": [
    "We can potentially create arrays with any dimensionality. For example, deep learning models of videos may use data that have five dimensions. Generally though, we'll be working with data that are two dimensional. The code below shows how to create these types of arrays."
   ]
  },
  {
   "cell_type": "code",
   "execution_count": 3,
   "id": "dad5b015",
   "metadata": {
    "tags": []
   },
   "outputs": [
    {
     "data": {
      "text/plain": [
       "array([[0., 0., 0., 0.],\n",
       "       [0., 0., 0., 0.],\n",
       "       [0., 0., 0., 0.]])"
      ]
     },
     "execution_count": 3,
     "metadata": {},
     "output_type": "execute_result"
    }
   ],
   "source": [
    "np.zeros((3, 4))"
   ]
  },
  {
   "cell_type": "code",
   "execution_count": 7,
   "id": "62f45958",
   "metadata": {},
   "outputs": [
    {
     "data": {
      "text/plain": [
       "array([[1, 1, 1],\n",
       "       [1, 1, 1]], dtype=int16)"
      ]
     },
     "execution_count": 7,
     "metadata": {},
     "output_type": "execute_result"
    }
   ],
   "source": [
    "np.ones((2, 3), dtype=np.int16)"
   ]
  },
  {
   "cell_type": "code",
   "execution_count": 3,
   "id": "a49f3b59",
   "metadata": {
    "tags": []
   },
   "outputs": [
    {
     "data": {
      "text/plain": [
       "array([[0., 0., 0., 0., 0.],\n",
       "       [0., 0., 0., 0., 0.]])"
      ]
     },
     "execution_count": 3,
     "metadata": {},
     "output_type": "execute_result"
    }
   ],
   "source": [
    "np.empty((2, 5))"
   ]
  },
  {
   "cell_type": "markdown",
   "id": "8df27d1c",
   "metadata": {},
   "source": [
    "We can print these arrays in a (slightly) more user-friendly format"
   ]
  },
  {
   "cell_type": "code",
   "execution_count": 4,
   "id": "f1b64d18",
   "metadata": {
    "tags": []
   },
   "outputs": [
    {
     "name": "stdout",
     "output_type": "stream",
     "text": [
      "[[0. 0. 0. 0. 0.]\n",
      " [0. 0. 0. 0. 0.]]\n"
     ]
    }
   ],
   "source": [
    "a = np.empty((2, 5))\n",
    "print(a)"
   ]
  },
  {
   "cell_type": "code",
   "execution_count": 9,
   "id": "be574f6d",
   "metadata": {
    "tags": []
   },
   "outputs": [],
   "source": [
    "testmatrix = np.zeros((3, 4))\n",
    "testmatrix[0, 3] = 4"
   ]
  },
  {
   "cell_type": "code",
   "execution_count": 10,
   "id": "e0e045c9",
   "metadata": {
    "tags": []
   },
   "outputs": [
    {
     "name": "stdout",
     "output_type": "stream",
     "text": [
      "[[0. 0. 0. 4.]\n",
      " [0. 0. 0. 0.]\n",
      " [0. 0. 0. 0.]]\n"
     ]
    }
   ],
   "source": [
    "print(testmatrix)"
   ]
  },
  {
   "cell_type": "markdown",
   "id": "745150a7",
   "metadata": {},
   "source": [
    "We can't do much with a matrix of zeroes, so we need to change some of the values. Using what you've seen in the previous notebook about indexing, try to change the top-right value in 'testmatrix' to the value 4."
   ]
  },
  {
   "cell_type": "markdown",
   "id": "12e6b022",
   "metadata": {},
   "source": [
    "We can also add, subtract, multiply, and divide values from each entry in the array using some simple code."
   ]
  },
  {
   "cell_type": "code",
   "execution_count": 11,
   "id": "78f13462",
   "metadata": {
    "tags": []
   },
   "outputs": [
    {
     "data": {
      "text/plain": [
       "array([[2., 2., 2., 6.],\n",
       "       [2., 2., 2., 2.],\n",
       "       [2., 2., 2., 2.]])"
      ]
     },
     "execution_count": 11,
     "metadata": {},
     "output_type": "execute_result"
    }
   ],
   "source": [
    "testmatrix += 2\n",
    "testmatrix"
   ]
  },
  {
   "cell_type": "code",
   "execution_count": 13,
   "id": "f53250ab",
   "metadata": {
    "tags": []
   },
   "outputs": [
    {
     "data": {
      "text/plain": [
       "array([[ 50.,  50.,  50., 150.],\n",
       "       [ 50.,  50.,  50.,  50.],\n",
       "       [ 50.,  50.,  50.,  50.]])"
      ]
     },
     "execution_count": 13,
     "metadata": {},
     "output_type": "execute_result"
    }
   ],
   "source": [
    "testmatrix *=5\n",
    "testmatrix"
   ]
  },
  {
   "cell_type": "code",
   "execution_count": 15,
   "id": "65267ee9",
   "metadata": {
    "tags": []
   },
   "outputs": [
    {
     "data": {
      "text/plain": [
       "array([[0.125, 0.125, 0.125, 0.375],\n",
       "       [0.125, 0.125, 0.125, 0.125],\n",
       "       [0.125, 0.125, 0.125, 0.125]])"
      ]
     },
     "execution_count": 15,
     "metadata": {},
     "output_type": "execute_result"
    }
   ],
   "source": [
    "testmatrix /= 20\n",
    "testmatrix"
   ]
  },
  {
   "cell_type": "markdown",
   "id": "84f76475",
   "metadata": {},
   "source": [
    "We can also test each element in the array."
   ]
  },
  {
   "cell_type": "code",
   "execution_count": 17,
   "id": "9b920b62",
   "metadata": {},
   "outputs": [
    {
     "data": {
      "text/plain": [
       "array([[False, False, False,  True],\n",
       "       [False, False, False, False],\n",
       "       [False, False, False, False]])"
      ]
     },
     "execution_count": 17,
     "metadata": {},
     "output_type": "execute_result"
    }
   ],
   "source": [
    "testmatrix > 1."
   ]
  },
  {
   "cell_type": "markdown",
   "id": "ba53c832",
   "metadata": {},
   "source": [
    "There are a lot more details online. A good place to start is: https://numpy.org/doc/stable/user/absolute_beginners.html."
   ]
  },
  {
   "cell_type": "markdown",
   "id": "6ea4a2b2",
   "metadata": {},
   "source": [
    "## Data preprocessing challenges\n",
    "\n",
    "You have various data preprocessing tasks to carry out on the arrays below. You should follow the instructions carefully and you may have to use your own judgment on what is a sensible decision."
   ]
  },
  {
   "cell_type": "markdown",
   "id": "c242ee85",
   "metadata": {},
   "source": [
    "Challenge 1: For the dataset below, change all the negative values to zeroes."
   ]
  },
  {
   "cell_type": "code",
   "execution_count": 83,
   "id": "0bc5c4a7",
   "metadata": {
    "tags": []
   },
   "outputs": [
    {
     "name": "stdout",
     "output_type": "stream",
     "text": [
      "[[ 0.   0.   5.   3.   1. ]\n",
      " [ 0.   0.   0.   0.   0. ]\n",
      " [ 0.   5.  17.2  3.5  4.1]\n",
      " [ 0.   0.   0.5  0.   0.5]]\n"
     ]
    }
   ],
   "source": [
    "def negative_zero(collection):\n",
    "    row_list = []\n",
    "    for row in collection:\n",
    "        a_list = list(row)\n",
    "        for value in a_list:\n",
    "            if value < 0:\n",
    "                a_list[a_list.index(value)] = 0\n",
    "        clean_row = np.array(a_list)\n",
    "        row_list.append(clean_row)\n",
    "        clean_collection = np.stack(row_list, axis = 0)\n",
    "    print(clean_collection)\n",
    "\n",
    "row1 = np.array([-99, 0, 5, 3, 1])\n",
    "row2 = np.array([-1, -5, -7, -9, -1.5])\n",
    "row3 = np.array([0, 5, 17.2, 3.5, 4.1])\n",
    "row4 = np.array([-1, -1, 0.5, -1, 0.5])\n",
    "challenge1 = np.stack((row1, row2, row3, row4))\n",
    "\n",
    "negative_zero(challenge1)\n"
   ]
  },
  {
   "cell_type": "markdown",
   "id": "56c01951",
   "metadata": {},
   "source": [
    "Challenge 2: Remove all the 'x' characters from the dataset below."
   ]
  },
  {
   "cell_type": "code",
   "execution_count": 124,
   "id": "5ae17670",
   "metadata": {
    "tags": []
   },
   "outputs": [
    {
     "name": "stdout",
     "output_type": "stream",
     "text": [
      "[['123' '456' '1264' '456']\n",
      " ['1356' '5.75' '1.23' '3.573']\n",
      " ['123' '953' '31' '-99']\n",
      " ['145741' '3.57' '1245' 'abc']\n",
      " ['0' '14' '99' '12345678']]\n"
     ]
    }
   ],
   "source": [
    "def clean_list(l):\n",
    "    cleaned_strings = []\n",
    "    for s in l:\n",
    "       char_list = list(s)\n",
    "       remove = [st for st in char_list if not st == 'x']\n",
    "       clean_string = ''.join(remove)\n",
    "       cleaned_strings.append(clean_string)\n",
    "    return cleaned_strings\n",
    "\n",
    "def remove_x(collection):\n",
    "    row_list = []\n",
    "    for row in collection:\n",
    "        li = list(row)\n",
    "        clean_row = np.array(clean_list(li))\n",
    "        row_list.append(clean_row)\n",
    "        clean_collection = np.stack(row_list, axis = 0)\n",
    "    print(clean_collection)\n",
    "               \n",
    "example1 = np.array([123, 'xx456', '1264', 'x4x5x6'])\n",
    "example2 = np.array(['1xxx3xxx5xxx6', 5.75, 1.23, 'x3.573'])\n",
    "example3 = np.array(['xx123xxxx', 953, 0x1F, -99])\n",
    "example4 = np.array(['xx14xx57xx41', 3.57, 1245, 'xabcxx'])\n",
    "example5 = np.array([0, 'xx1xxx4x', 99, '1234xx5678'])\n",
    "\n",
    "challenge2 = np.stack((example1, example2, example3, example4, example5))\n",
    "remove_x(challenge2)"
   ]
  },
  {
   "cell_type": "markdown",
   "id": "ad48df27",
   "metadata": {},
   "source": [
    "Challenge 3: For the dataset below, you can see that we have counts of the number of animals in a sample with numbers of legs from 1 to 8. Clean the data by removing implausible values."
   ]
  },
  {
   "cell_type": "code",
   "execution_count": 129,
   "id": "800ec814",
   "metadata": {
    "tags": []
   },
   "outputs": [
    {
     "name": "stdout",
     "output_type": "stream",
     "text": [
      "[[  0   1   2   3   4   5   6   7   8]\n",
      " [ 54   5 172   1   0   1  42   0  12]]\n"
     ]
    }
   ],
   "source": [
    "number_of_legs   = np.array([0,  1, 2,   3, 4,   5, 6,  7,   8])\n",
    "count_of_animals = np.array([54, 5, 172, 1, -99, 1, 42, -99, 12])\n",
    "count_of_animals[4:8:3] = 0\n",
    "challenge3 = np.stack((number_of_legs, count_of_animals))\n",
    "print(challenge3)"
   ]
  }
 ],
 "metadata": {
  "kernelspec": {
   "display_name": "Python 3 (ipykernel)",
   "language": "python",
   "name": "python3"
  },
  "language_info": {
   "codemirror_mode": {
    "name": "ipython",
    "version": 3
   },
   "file_extension": ".py",
   "mimetype": "text/x-python",
   "name": "python",
   "nbconvert_exporter": "python",
   "pygments_lexer": "ipython3",
   "version": "3.11.5"
  }
 },
 "nbformat": 4,
 "nbformat_minor": 5
}
